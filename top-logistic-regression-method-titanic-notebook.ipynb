{
 "cells": [
  {
   "cell_type": "markdown",
   "id": "e9dadc55",
   "metadata": {
    "papermill": {
     "duration": 0.012616,
     "end_time": "2023-06-19T18:31:24.105805",
     "exception": false,
     "start_time": "2023-06-19T18:31:24.093189",
     "status": "completed"
    },
    "tags": []
   },
   "source": [
    "# **Import Packages and Extract Data from CSVs**"
   ]
  },
  {
   "cell_type": "code",
   "execution_count": 1,
   "id": "16a50470",
   "metadata": {
    "_cell_guid": "b1076dfc-b9ad-4769-8c92-a6c4dae69d19",
    "_uuid": "8f2839f25d086af736a60e9eeb907d3b93b6e0e5",
    "execution": {
     "iopub.execute_input": "2023-06-19T18:31:24.127842Z",
     "iopub.status.busy": "2023-06-19T18:31:24.127439Z",
     "iopub.status.idle": "2023-06-19T18:31:26.484717Z",
     "shell.execute_reply": "2023-06-19T18:31:26.483415Z"
    },
    "papermill": {
     "duration": 2.371745,
     "end_time": "2023-06-19T18:31:26.487694",
     "exception": false,
     "start_time": "2023-06-19T18:31:24.115949",
     "status": "completed"
    },
    "tags": []
   },
   "outputs": [
    {
     "name": "stdout",
     "output_type": "stream",
     "text": [
      "/kaggle/input/titanic/train.csv\n",
      "/kaggle/input/titanic/test.csv\n",
      "/kaggle/input/titanic/gender_submission.csv\n"
     ]
    }
   ],
   "source": [
    "#### import packages\n",
    "import matplotlib.pyplot as plt\n",
    "import pandas as pd\n",
    "import numpy as np\n",
    "import xgboost as xgb\n",
    "import seaborn as sns\n",
    "import sklearn as skl\n",
    "from xgboost.sklearn import XGBClassifier\n",
    "from sklearn.linear_model import LogisticRegression\n",
    "from sklearn.model_selection import train_test_split\n",
    "\n",
    "# Input data files are available in the read-only \"../input/\" directory\n",
    "# For example, running this (by clicking run or pressing Shift+Enter) will list all files under the input directory\n",
    "\n",
    "import os\n",
    "for dirname, _, filenames in os.walk('/kaggle/input'):\n",
    "    for filename in filenames:\n",
    "        print(os.path.join(dirname, filename))\n",
    "\n",
    "# You can write up to 20GB to the current directory (/kaggle/working/) that gets preserved as output when you create a version using \"Save & Run All\" \n",
    "# You can also write temporary files to /kaggle/temp/, but they won't be saved outside of the current session"
   ]
  },
  {
   "cell_type": "code",
   "execution_count": 2,
   "id": "54fdc718",
   "metadata": {
    "execution": {
     "iopub.execute_input": "2023-06-19T18:31:26.509710Z",
     "iopub.status.busy": "2023-06-19T18:31:26.509278Z",
     "iopub.status.idle": "2023-06-19T18:31:26.555402Z",
     "shell.execute_reply": "2023-06-19T18:31:26.553904Z"
    },
    "papermill": {
     "duration": 0.061074,
     "end_time": "2023-06-19T18:31:26.558909",
     "exception": false,
     "start_time": "2023-06-19T18:31:26.497835",
     "status": "completed"
    },
    "tags": []
   },
   "outputs": [],
   "source": [
    "train_df = pd.read_csv(\"../input/titanic/train.csv\")\n",
    "test_df = pd.read_csv(\"../input/titanic/test.csv\")\n",
    "data_cleaner = [train_df, test_df] # Create list of DF's to update train/test @ the same time\n",
    "#take a look at the training data\n",
    "sub = test_df['PassengerId'] # Passenger ID column that will be used in output file"
   ]
  },
  {
   "cell_type": "markdown",
   "id": "5891338f",
   "metadata": {
    "papermill": {
     "duration": 0.010221,
     "end_time": "2023-06-19T18:31:26.580141",
     "exception": false,
     "start_time": "2023-06-19T18:31:26.569920",
     "status": "completed"
    },
    "tags": []
   },
   "source": [
    "# **Data Visualization**"
   ]
  },
  {
   "cell_type": "code",
   "execution_count": 3,
   "id": "5350a1a7",
   "metadata": {
    "execution": {
     "iopub.execute_input": "2023-06-19T18:31:26.602130Z",
     "iopub.status.busy": "2023-06-19T18:31:26.601693Z",
     "iopub.status.idle": "2023-06-19T18:31:26.689868Z",
     "shell.execute_reply": "2023-06-19T18:31:26.688837Z"
    },
    "papermill": {
     "duration": 0.102733,
     "end_time": "2023-06-19T18:31:26.693084",
     "exception": false,
     "start_time": "2023-06-19T18:31:26.590351",
     "status": "completed"
    },
    "tags": []
   },
   "outputs": [
    {
     "data": {
      "text/html": [
       "<div>\n",
       "<style scoped>\n",
       "    .dataframe tbody tr th:only-of-type {\n",
       "        vertical-align: middle;\n",
       "    }\n",
       "\n",
       "    .dataframe tbody tr th {\n",
       "        vertical-align: top;\n",
       "    }\n",
       "\n",
       "    .dataframe thead th {\n",
       "        text-align: right;\n",
       "    }\n",
       "</style>\n",
       "<table border=\"1\" class=\"dataframe\">\n",
       "  <thead>\n",
       "    <tr style=\"text-align: right;\">\n",
       "      <th></th>\n",
       "      <th>PassengerId</th>\n",
       "      <th>Survived</th>\n",
       "      <th>Pclass</th>\n",
       "      <th>Name</th>\n",
       "      <th>Sex</th>\n",
       "      <th>Age</th>\n",
       "      <th>SibSp</th>\n",
       "      <th>Parch</th>\n",
       "      <th>Ticket</th>\n",
       "      <th>Fare</th>\n",
       "      <th>Cabin</th>\n",
       "      <th>Embarked</th>\n",
       "    </tr>\n",
       "  </thead>\n",
       "  <tbody>\n",
       "    <tr>\n",
       "      <th>count</th>\n",
       "      <td>891.000000</td>\n",
       "      <td>891.000000</td>\n",
       "      <td>891.000000</td>\n",
       "      <td>891</td>\n",
       "      <td>891</td>\n",
       "      <td>714.000000</td>\n",
       "      <td>891.000000</td>\n",
       "      <td>891.000000</td>\n",
       "      <td>891</td>\n",
       "      <td>891.000000</td>\n",
       "      <td>204</td>\n",
       "      <td>889</td>\n",
       "    </tr>\n",
       "    <tr>\n",
       "      <th>unique</th>\n",
       "      <td>NaN</td>\n",
       "      <td>NaN</td>\n",
       "      <td>NaN</td>\n",
       "      <td>891</td>\n",
       "      <td>2</td>\n",
       "      <td>NaN</td>\n",
       "      <td>NaN</td>\n",
       "      <td>NaN</td>\n",
       "      <td>681</td>\n",
       "      <td>NaN</td>\n",
       "      <td>147</td>\n",
       "      <td>3</td>\n",
       "    </tr>\n",
       "    <tr>\n",
       "      <th>top</th>\n",
       "      <td>NaN</td>\n",
       "      <td>NaN</td>\n",
       "      <td>NaN</td>\n",
       "      <td>Braund, Mr. Owen Harris</td>\n",
       "      <td>male</td>\n",
       "      <td>NaN</td>\n",
       "      <td>NaN</td>\n",
       "      <td>NaN</td>\n",
       "      <td>347082</td>\n",
       "      <td>NaN</td>\n",
       "      <td>B96 B98</td>\n",
       "      <td>S</td>\n",
       "    </tr>\n",
       "    <tr>\n",
       "      <th>freq</th>\n",
       "      <td>NaN</td>\n",
       "      <td>NaN</td>\n",
       "      <td>NaN</td>\n",
       "      <td>1</td>\n",
       "      <td>577</td>\n",
       "      <td>NaN</td>\n",
       "      <td>NaN</td>\n",
       "      <td>NaN</td>\n",
       "      <td>7</td>\n",
       "      <td>NaN</td>\n",
       "      <td>4</td>\n",
       "      <td>644</td>\n",
       "    </tr>\n",
       "    <tr>\n",
       "      <th>mean</th>\n",
       "      <td>446.000000</td>\n",
       "      <td>0.383838</td>\n",
       "      <td>2.308642</td>\n",
       "      <td>NaN</td>\n",
       "      <td>NaN</td>\n",
       "      <td>29.699118</td>\n",
       "      <td>0.523008</td>\n",
       "      <td>0.381594</td>\n",
       "      <td>NaN</td>\n",
       "      <td>32.204208</td>\n",
       "      <td>NaN</td>\n",
       "      <td>NaN</td>\n",
       "    </tr>\n",
       "    <tr>\n",
       "      <th>std</th>\n",
       "      <td>257.353842</td>\n",
       "      <td>0.486592</td>\n",
       "      <td>0.836071</td>\n",
       "      <td>NaN</td>\n",
       "      <td>NaN</td>\n",
       "      <td>14.526497</td>\n",
       "      <td>1.102743</td>\n",
       "      <td>0.806057</td>\n",
       "      <td>NaN</td>\n",
       "      <td>49.693429</td>\n",
       "      <td>NaN</td>\n",
       "      <td>NaN</td>\n",
       "    </tr>\n",
       "    <tr>\n",
       "      <th>min</th>\n",
       "      <td>1.000000</td>\n",
       "      <td>0.000000</td>\n",
       "      <td>1.000000</td>\n",
       "      <td>NaN</td>\n",
       "      <td>NaN</td>\n",
       "      <td>0.420000</td>\n",
       "      <td>0.000000</td>\n",
       "      <td>0.000000</td>\n",
       "      <td>NaN</td>\n",
       "      <td>0.000000</td>\n",
       "      <td>NaN</td>\n",
       "      <td>NaN</td>\n",
       "    </tr>\n",
       "    <tr>\n",
       "      <th>25%</th>\n",
       "      <td>223.500000</td>\n",
       "      <td>0.000000</td>\n",
       "      <td>2.000000</td>\n",
       "      <td>NaN</td>\n",
       "      <td>NaN</td>\n",
       "      <td>20.125000</td>\n",
       "      <td>0.000000</td>\n",
       "      <td>0.000000</td>\n",
       "      <td>NaN</td>\n",
       "      <td>7.910400</td>\n",
       "      <td>NaN</td>\n",
       "      <td>NaN</td>\n",
       "    </tr>\n",
       "    <tr>\n",
       "      <th>50%</th>\n",
       "      <td>446.000000</td>\n",
       "      <td>0.000000</td>\n",
       "      <td>3.000000</td>\n",
       "      <td>NaN</td>\n",
       "      <td>NaN</td>\n",
       "      <td>28.000000</td>\n",
       "      <td>0.000000</td>\n",
       "      <td>0.000000</td>\n",
       "      <td>NaN</td>\n",
       "      <td>14.454200</td>\n",
       "      <td>NaN</td>\n",
       "      <td>NaN</td>\n",
       "    </tr>\n",
       "    <tr>\n",
       "      <th>75%</th>\n",
       "      <td>668.500000</td>\n",
       "      <td>1.000000</td>\n",
       "      <td>3.000000</td>\n",
       "      <td>NaN</td>\n",
       "      <td>NaN</td>\n",
       "      <td>38.000000</td>\n",
       "      <td>1.000000</td>\n",
       "      <td>0.000000</td>\n",
       "      <td>NaN</td>\n",
       "      <td>31.000000</td>\n",
       "      <td>NaN</td>\n",
       "      <td>NaN</td>\n",
       "    </tr>\n",
       "    <tr>\n",
       "      <th>max</th>\n",
       "      <td>891.000000</td>\n",
       "      <td>1.000000</td>\n",
       "      <td>3.000000</td>\n",
       "      <td>NaN</td>\n",
       "      <td>NaN</td>\n",
       "      <td>80.000000</td>\n",
       "      <td>8.000000</td>\n",
       "      <td>6.000000</td>\n",
       "      <td>NaN</td>\n",
       "      <td>512.329200</td>\n",
       "      <td>NaN</td>\n",
       "      <td>NaN</td>\n",
       "    </tr>\n",
       "  </tbody>\n",
       "</table>\n",
       "</div>"
      ],
      "text/plain": [
       "        PassengerId    Survived      Pclass                     Name   Sex  \\\n",
       "count    891.000000  891.000000  891.000000                      891   891   \n",
       "unique          NaN         NaN         NaN                      891     2   \n",
       "top             NaN         NaN         NaN  Braund, Mr. Owen Harris  male   \n",
       "freq            NaN         NaN         NaN                        1   577   \n",
       "mean     446.000000    0.383838    2.308642                      NaN   NaN   \n",
       "std      257.353842    0.486592    0.836071                      NaN   NaN   \n",
       "min        1.000000    0.000000    1.000000                      NaN   NaN   \n",
       "25%      223.500000    0.000000    2.000000                      NaN   NaN   \n",
       "50%      446.000000    0.000000    3.000000                      NaN   NaN   \n",
       "75%      668.500000    1.000000    3.000000                      NaN   NaN   \n",
       "max      891.000000    1.000000    3.000000                      NaN   NaN   \n",
       "\n",
       "               Age       SibSp       Parch  Ticket        Fare    Cabin  \\\n",
       "count   714.000000  891.000000  891.000000     891  891.000000      204   \n",
       "unique         NaN         NaN         NaN     681         NaN      147   \n",
       "top            NaN         NaN         NaN  347082         NaN  B96 B98   \n",
       "freq           NaN         NaN         NaN       7         NaN        4   \n",
       "mean     29.699118    0.523008    0.381594     NaN   32.204208      NaN   \n",
       "std      14.526497    1.102743    0.806057     NaN   49.693429      NaN   \n",
       "min       0.420000    0.000000    0.000000     NaN    0.000000      NaN   \n",
       "25%      20.125000    0.000000    0.000000     NaN    7.910400      NaN   \n",
       "50%      28.000000    0.000000    0.000000     NaN   14.454200      NaN   \n",
       "75%      38.000000    1.000000    0.000000     NaN   31.000000      NaN   \n",
       "max      80.000000    8.000000    6.000000     NaN  512.329200      NaN   \n",
       "\n",
       "       Embarked  \n",
       "count       889  \n",
       "unique        3  \n",
       "top           S  \n",
       "freq        644  \n",
       "mean        NaN  \n",
       "std         NaN  \n",
       "min         NaN  \n",
       "25%         NaN  \n",
       "50%         NaN  \n",
       "75%         NaN  \n",
       "max         NaN  "
      ]
     },
     "execution_count": 3,
     "metadata": {},
     "output_type": "execute_result"
    }
   ],
   "source": [
    "train_df.describe(include=\"all\") #Summary stats for DataFrame"
   ]
  },
  {
   "cell_type": "code",
   "execution_count": 4,
   "id": "2397d692",
   "metadata": {
    "execution": {
     "iopub.execute_input": "2023-06-19T18:31:26.717033Z",
     "iopub.status.busy": "2023-06-19T18:31:26.716318Z",
     "iopub.status.idle": "2023-06-19T18:31:27.245610Z",
     "shell.execute_reply": "2023-06-19T18:31:27.244195Z"
    },
    "papermill": {
     "duration": 0.544763,
     "end_time": "2023-06-19T18:31:27.248547",
     "exception": false,
     "start_time": "2023-06-19T18:31:26.703784",
     "status": "completed"
    },
    "tags": []
   },
   "outputs": [
    {
     "data": {
      "text/plain": [
       "<matplotlib.legend.Legend at 0x788d18e0ce80>"
      ]
     },
     "execution_count": 4,
     "metadata": {},
     "output_type": "execute_result"
    },
    {
     "data": {
      "image/png": "[encoded data removed]",
      "text/plain": [
       "<Figure size 640x480 with 1 Axes>"
      ]
     },
     "metadata": {},
     "output_type": "display_data"
    }
   ],
   "source": [
    "pal = sns.diverging_palette(220, 20, n=7)\n",
    " \n",
    "ax = sns.barplot(x=train_df[\"Embarked\"], y=train_df[\"Survived\"], palette=pal,order=['C','Q','S'],hue=train_df[\"Sex\"])\n",
    "ax.set(xlabel='Embarking Ports', ylabel='Probability Survive')\n",
    "\n",
    "ax.set_xticklabels(['Cherbourg', 'Queenstown', 'Southampton'])\n",
    "plt.legend(bbox_to_anchor=(1.08, 0.7),\n",
    "           bbox_transform=plt.gcf().transFigure,title=\"Sex\", fancybox=True)"
   ]
  },
  {
   "cell_type": "code",
   "execution_count": 5,
   "id": "2ffc4ea8",
   "metadata": {
    "execution": {
     "iopub.execute_input": "2023-06-19T18:31:27.273100Z",
     "iopub.status.busy": "2023-06-19T18:31:27.272649Z",
     "iopub.status.idle": "2023-06-19T18:31:27.740774Z",
     "shell.execute_reply": "2023-06-19T18:31:27.739683Z"
    },
    "papermill": {
     "duration": 0.483358,
     "end_time": "2023-06-19T18:31:27.743504",
     "exception": false,
     "start_time": "2023-06-19T18:31:27.260146",
     "status": "completed"
    },
    "tags": []
   },
   "outputs": [
    {
     "name": "stderr",
     "output_type": "stream",
     "text": [
      "/tmp/ipykernel_20/4148153745.py:2: FutureWarning: The default value of numeric_only in DataFrame.corr is deprecated. In a future version, it will default to False. Select only valid columns or specify the value of numeric_only to silence this warning.\n",
      "  corr = train_df.corr()\n"
     ]
    },
    {
     "data": {
      "image/png": "[encoded data removed]",
      "text/plain": [
       "<Figure size 640x480 with 2 Axes>"
      ]
     },
     "metadata": {},
     "output_type": "display_data"
    }
   ],
   "source": [
    "#### create a correlation graph of the different fields against the survival field\n",
    "corr = train_df.corr()\n",
    "sns.heatmap(corr, cmap = 'RdBu', annot = True, xticklabels = corr.columns.values,yticklabels = corr.columns.values)\n",
    "plt.show()\n"
   ]
  },
  {
   "cell_type": "markdown",
   "id": "b2853519",
   "metadata": {
    "papermill": {
     "duration": 0.012521,
     "end_time": "2023-06-19T18:31:27.768352",
     "exception": false,
     "start_time": "2023-06-19T18:31:27.755831",
     "status": "completed"
    },
    "tags": []
   },
   "source": [
    "# **Data Cleaning**"
   ]
  },
  {
   "cell_type": "code",
   "execution_count": 6,
   "id": "5906ff50",
   "metadata": {
    "execution": {
     "iopub.execute_input": "2023-06-19T18:31:27.795815Z",
     "iopub.status.busy": "2023-06-19T18:31:27.794449Z",
     "iopub.status.idle": "2023-06-19T18:31:27.807654Z",
     "shell.execute_reply": "2023-06-19T18:31:27.805882Z"
    },
    "papermill": {
     "duration": 0.029747,
     "end_time": "2023-06-19T18:31:27.810439",
     "exception": false,
     "start_time": "2023-06-19T18:31:27.780692",
     "status": "completed"
    },
    "tags": []
   },
   "outputs": [
    {
     "name": "stdout",
     "output_type": "stream",
     "text": [
      "PassengerId      0\n",
      "Survived         0\n",
      "Pclass           0\n",
      "Name             0\n",
      "Sex              0\n",
      "Age            177\n",
      "SibSp            0\n",
      "Parch            0\n",
      "Ticket           0\n",
      "Fare             0\n",
      "Cabin          687\n",
      "Embarked         2\n",
      "dtype: int64\n",
      "\n",
      "\n",
      "PassengerId      0\n",
      "Pclass           0\n",
      "Name             0\n",
      "Sex              0\n",
      "Age             86\n",
      "SibSp            0\n",
      "Parch            0\n",
      "Ticket           0\n",
      "Fare             1\n",
      "Cabin          327\n",
      "Embarked         0\n",
      "dtype: int64\n",
      "\n",
      "\n"
     ]
    }
   ],
   "source": [
    "# Null's in training/testing sets\n",
    "for data in data_cleaner:\n",
    "    print(data.isnull().sum())\n",
    "    print('\\n')"
   ]
  },
  {
   "cell_type": "markdown",
   "id": "f2017966",
   "metadata": {
    "papermill": {
     "duration": 0.012532,
     "end_time": "2023-06-19T18:31:27.835427",
     "exception": false,
     "start_time": "2023-06-19T18:31:27.822895",
     "status": "completed"
    },
    "tags": []
   },
   "source": [
    "**Remove Null Values**"
   ]
  },
  {
   "cell_type": "code",
   "execution_count": 7,
   "id": "d5f8d8df",
   "metadata": {
    "execution": {
     "iopub.execute_input": "2023-06-19T18:31:27.861857Z",
     "iopub.status.busy": "2023-06-19T18:31:27.861450Z",
     "iopub.status.idle": "2023-06-19T18:31:27.882587Z",
     "shell.execute_reply": "2023-06-19T18:31:27.881351Z"
    },
    "papermill": {
     "duration": 0.037648,
     "end_time": "2023-06-19T18:31:27.885381",
     "exception": false,
     "start_time": "2023-06-19T18:31:27.847733",
     "status": "completed"
    },
    "tags": []
   },
   "outputs": [
    {
     "data": {
      "text/html": [
       "<div>\n",
       "<style scoped>\n",
       "    .dataframe tbody tr th:only-of-type {\n",
       "        vertical-align: middle;\n",
       "    }\n",
       "\n",
       "    .dataframe tbody tr th {\n",
       "        vertical-align: top;\n",
       "    }\n",
       "\n",
       "    .dataframe thead th {\n",
       "        text-align: right;\n",
       "    }\n",
       "</style>\n",
       "<table border=\"1\" class=\"dataframe\">\n",
       "  <thead>\n",
       "    <tr style=\"text-align: right;\">\n",
       "      <th></th>\n",
       "      <th>3</th>\n",
       "      <th>1</th>\n",
       "      <th>2</th>\n",
       "    </tr>\n",
       "  </thead>\n",
       "  <tbody>\n",
       "    <tr>\n",
       "      <th>Age</th>\n",
       "      <td>25.14062</td>\n",
       "      <td>38.233441</td>\n",
       "      <td>29.87763</td>\n",
       "    </tr>\n",
       "  </tbody>\n",
       "</table>\n",
       "</div>"
      ],
      "text/plain": [
       "            3          1         2\n",
       "Age  25.14062  38.233441  29.87763"
      ]
     },
     "execution_count": 7,
     "metadata": {},
     "output_type": "execute_result"
    }
   ],
   "source": [
    "# Get the average age for each Pclass\n",
    "age_ref = pd.DataFrame(data=[train_df.groupby('Pclass')['Age'].mean()],columns=train_df['Pclass'].unique())\n",
    "age_ref"
   ]
  },
  {
   "cell_type": "code",
   "execution_count": 8,
   "id": "e6847b71",
   "metadata": {
    "execution": {
     "iopub.execute_input": "2023-06-19T18:31:27.913829Z",
     "iopub.status.busy": "2023-06-19T18:31:27.913124Z",
     "iopub.status.idle": "2023-06-19T18:31:27.961219Z",
     "shell.execute_reply": "2023-06-19T18:31:27.960164Z"
    },
    "papermill": {
     "duration": 0.065577,
     "end_time": "2023-06-19T18:31:27.963968",
     "exception": false,
     "start_time": "2023-06-19T18:31:27.898391",
     "status": "completed"
    },
    "tags": []
   },
   "outputs": [],
   "source": [
    "# Fill in null values for Age with average age for each Pclass based on the persons Pclass \n",
    "def fill_age(pclass,age):\n",
    "\n",
    "    if pd.isnull(age):\n",
    "        return float(age_ref[pclass])\n",
    "    else:\n",
    "        return age\n",
    "\n",
    "for data in data_cleaner:\n",
    "    data['Age'] = train_df.apply(lambda x: fill_age(x['Pclass'],x['Age']), axis=1)   "
   ]
  },
  {
   "cell_type": "code",
   "execution_count": 9,
   "id": "81a92fdc",
   "metadata": {
    "execution": {
     "iopub.execute_input": "2023-06-19T18:31:27.991779Z",
     "iopub.status.busy": "2023-06-19T18:31:27.991064Z",
     "iopub.status.idle": "2023-06-19T18:31:28.054273Z",
     "shell.execute_reply": "2023-06-19T18:31:28.053005Z"
    },
    "papermill": {
     "duration": 0.080562,
     "end_time": "2023-06-19T18:31:28.057195",
     "exception": false,
     "start_time": "2023-06-19T18:31:27.976633",
     "status": "completed"
    },
    "tags": []
   },
   "outputs": [],
   "source": [
    "# If Fare is Null then replace with the average Fare\n",
    "def fill_fare(fare):\n",
    "    if pd.isnull(fare):\n",
    "        return train_df['Fare'].mean()\n",
    "    else:\n",
    "        return fare\n",
    "\n",
    "# If Embark is Null then replace with the average Embark\n",
    "def fill_embark(embark):\n",
    "    if pd.isnull(embark):\n",
    "        return train_df['Embarked'].mode().iloc[0]\n",
    "    else:\n",
    "        return embark\n",
    "\n",
    "# Use the 2 functions above to replace Nulls in Fare and Embarked columns\n",
    "for data in data_cleaner:\n",
    "    data['Fare'] = train_df.apply(lambda x: fill_fare(x['Fare']), axis=1)\n",
    "    data['Embarked'] = train_df.apply(lambda x: fill_embark(x['Embarked']), axis=1)"
   ]
  },
  {
   "cell_type": "code",
   "execution_count": 10,
   "id": "deb13b45",
   "metadata": {
    "execution": {
     "iopub.execute_input": "2023-06-19T18:31:28.085065Z",
     "iopub.status.busy": "2023-06-19T18:31:28.084627Z",
     "iopub.status.idle": "2023-06-19T18:31:28.093171Z",
     "shell.execute_reply": "2023-06-19T18:31:28.091584Z"
    },
    "papermill": {
     "duration": 0.026177,
     "end_time": "2023-06-19T18:31:28.096078",
     "exception": false,
     "start_time": "2023-06-19T18:31:28.069901",
     "status": "completed"
    },
    "tags": []
   },
   "outputs": [],
   "source": [
    "# Drop column Cabin in both training and Test Set's\n",
    "for data in data_cleaner:\n",
    "    data.drop(['Cabin'],axis=1,inplace=True)"
   ]
  },
  {
   "cell_type": "markdown",
   "id": "6a80d64e",
   "metadata": {
    "papermill": {
     "duration": 0.013148,
     "end_time": "2023-06-19T18:31:28.121856",
     "exception": false,
     "start_time": "2023-06-19T18:31:28.108708",
     "status": "completed"
    },
    "tags": []
   },
   "source": [
    "**Create New Fields**"
   ]
  },
  {
   "cell_type": "code",
   "execution_count": 11,
   "id": "0e642210",
   "metadata": {
    "execution": {
     "iopub.execute_input": "2023-06-19T18:31:28.150161Z",
     "iopub.status.busy": "2023-06-19T18:31:28.148720Z",
     "iopub.status.idle": "2023-06-19T18:31:28.159061Z",
     "shell.execute_reply": "2023-06-19T18:31:28.158173Z"
    },
    "papermill": {
     "duration": 0.027183,
     "end_time": "2023-06-19T18:31:28.161731",
     "exception": false,
     "start_time": "2023-06-19T18:31:28.134548",
     "status": "completed"
    },
    "tags": []
   },
   "outputs": [],
   "source": [
    "# Create a title column using the Name field for Mr, Mrs, and Miss\n",
    "title_list = list()\n",
    "for data in data_cleaner:\n",
    "    for title in data['Name']:\n",
    "        title = title.split('.')[0].split(',')[1]\n",
    "        title_list.append(title)\n",
    "    \n",
    "    data['Title'] = title_list\n",
    "    title_list = list()"
   ]
  },
  {
   "cell_type": "code",
   "execution_count": 12,
   "id": "419a6f01",
   "metadata": {
    "execution": {
     "iopub.execute_input": "2023-06-19T18:31:28.190162Z",
     "iopub.status.busy": "2023-06-19T18:31:28.189291Z",
     "iopub.status.idle": "2023-06-19T18:31:28.217622Z",
     "shell.execute_reply": "2023-06-19T18:31:28.216600Z"
    },
    "papermill": {
     "duration": 0.046402,
     "end_time": "2023-06-19T18:31:28.221014",
     "exception": false,
     "start_time": "2023-06-19T18:31:28.174612",
     "status": "completed"
    },
    "tags": []
   },
   "outputs": [],
   "source": [
    "#replacing all titles with mr, mrs, miss\n",
    "def replace_titles(x):\n",
    "    title=x['Title']\n",
    "    if title in [' Don', ' Major', ' Capt', ' Jonkheer', ' Rev', ' Col', ' Sir',' Master']:\n",
    "        return 'Mr'\n",
    "    elif title in [' the Countess', ' Mme',' Lady']:\n",
    "        return 'Mrs'\n",
    "    elif title in [' Mlle', ' Ms', 'Dona']:\n",
    "        return 'Miss'\n",
    "    elif title ==' Dr':\n",
    "        if x['Sex']=='Male':\n",
    "            return 'Mr'\n",
    "        else:\n",
    "            return 'Mrs'\n",
    "    else:\n",
    "        return title.replace(\" \", \"\")\n",
    "train_df['Title']=train_df.apply(replace_titles, axis=1)\n",
    "test_df['Title'] = test_df.apply(replace_titles, axis = 1)"
   ]
  },
  {
   "cell_type": "code",
   "execution_count": 13,
   "id": "3b4280d6",
   "metadata": {
    "execution": {
     "iopub.execute_input": "2023-06-19T18:31:28.248524Z",
     "iopub.status.busy": "2023-06-19T18:31:28.247287Z",
     "iopub.status.idle": "2023-06-19T18:31:28.292285Z",
     "shell.execute_reply": "2023-06-19T18:31:28.291096Z"
    },
    "papermill": {
     "duration": 0.06133,
     "end_time": "2023-06-19T18:31:28.294824",
     "exception": false,
     "start_time": "2023-06-19T18:31:28.233494",
     "status": "completed"
    },
    "tags": []
   },
   "outputs": [
    {
     "name": "stderr",
     "output_type": "stream",
     "text": [
      "/tmp/ipykernel_20/3626888375.py:16: SettingWithCopyWarning: \n",
      "A value is trying to be set on a copy of a slice from a DataFrame\n",
      "\n",
      "See the caveats in the documentation: https://pandas.pydata.org/pandas-docs/stable/user_guide/indexing.html#returning-a-view-versus-a-copy\n",
      "  data['IsAlone'].loc[data['FamilySize'] != 'Single'] = 0\n",
      "/tmp/ipykernel_20/3626888375.py:16: SettingWithCopyWarning: \n",
      "A value is trying to be set on a copy of a slice from a DataFrame\n",
      "\n",
      "See the caveats in the documentation: https://pandas.pydata.org/pandas-docs/stable/user_guide/indexing.html#returning-a-view-versus-a-copy\n",
      "  data['IsAlone'].loc[data['FamilySize'] != 'Single'] = 0\n"
     ]
    }
   ],
   "source": [
    "# Get the family size using # of parents and children columns\n",
    "def get_size(df):\n",
    "    if df['SibSp'] + df['Parch'] + 1 == 1:\n",
    "        return 'Single'\n",
    "    if df['SibSp'] + df['Parch'] + 1 > 1:\n",
    "        return 'Small'\n",
    "    if df['SibSp'] + df['Parch'] + 1 > 4:\n",
    "        return 'Big'\n",
    "    \n",
    "for data in data_cleaner:\n",
    "    data['FamilySize'] = data.apply(get_size,axis=1)\n",
    "\n",
    "# Also create an IsAlone column using family size of single\n",
    "for data in data_cleaner:\n",
    "    data['IsAlone'] = 1 \n",
    "    data['IsAlone'].loc[data['FamilySize'] != 'Single'] = 0"
   ]
  },
  {
   "cell_type": "code",
   "execution_count": 14,
   "id": "fbe1d61d",
   "metadata": {
    "execution": {
     "iopub.execute_input": "2023-06-19T18:31:28.324261Z",
     "iopub.status.busy": "2023-06-19T18:31:28.323402Z",
     "iopub.status.idle": "2023-06-19T18:31:28.907977Z",
     "shell.execute_reply": "2023-06-19T18:31:28.906436Z"
    },
    "papermill": {
     "duration": 0.603894,
     "end_time": "2023-06-19T18:31:28.911531",
     "exception": false,
     "start_time": "2023-06-19T18:31:28.307637",
     "status": "completed"
    },
    "tags": []
   },
   "outputs": [
    {
     "name": "stderr",
     "output_type": "stream",
     "text": [
      "/tmp/ipykernel_20/4064201153.py:2: FutureWarning: The default value of numeric_only in DataFrame.corr is deprecated. In a future version, it will default to False. Select only valid columns or specify the value of numeric_only to silence this warning.\n",
      "  corr = train_df.corr()\n"
     ]
    },
    {
     "data": {
      "image/png": "[encoded data removed]",
      "text/plain": [
       "<Figure size 640x480 with 2 Axes>"
      ]
     },
     "metadata": {},
     "output_type": "display_data"
    },
    {
     "data": {
      "text/html": [
       "<div>\n",
       "<style scoped>\n",
       "    .dataframe tbody tr th:only-of-type {\n",
       "        vertical-align: middle;\n",
       "    }\n",
       "\n",
       "    .dataframe tbody tr th {\n",
       "        vertical-align: top;\n",
       "    }\n",
       "\n",
       "    .dataframe thead th {\n",
       "        text-align: right;\n",
       "    }\n",
       "</style>\n",
       "<table border=\"1\" class=\"dataframe\">\n",
       "  <thead>\n",
       "    <tr style=\"text-align: right;\">\n",
       "      <th></th>\n",
       "      <th>PassengerId</th>\n",
       "      <th>Survived</th>\n",
       "      <th>Pclass</th>\n",
       "      <th>Name</th>\n",
       "      <th>Sex</th>\n",
       "      <th>Age</th>\n",
       "      <th>SibSp</th>\n",
       "      <th>Parch</th>\n",
       "      <th>Ticket</th>\n",
       "      <th>Fare</th>\n",
       "      <th>Embarked</th>\n",
       "      <th>Title</th>\n",
       "      <th>FamilySize</th>\n",
       "      <th>IsAlone</th>\n",
       "    </tr>\n",
       "  </thead>\n",
       "  <tbody>\n",
       "    <tr>\n",
       "      <th>0</th>\n",
       "      <td>1</td>\n",
       "      <td>0</td>\n",
       "      <td>3</td>\n",
       "      <td>Braund, Mr. Owen Harris</td>\n",
       "      <td>male</td>\n",
       "      <td>22.0</td>\n",
       "      <td>1</td>\n",
       "      <td>0</td>\n",
       "      <td>A/5 21171</td>\n",
       "      <td>7.2500</td>\n",
       "      <td>S</td>\n",
       "      <td>Mr</td>\n",
       "      <td>Small</td>\n",
       "      <td>0</td>\n",
       "    </tr>\n",
       "    <tr>\n",
       "      <th>1</th>\n",
       "      <td>2</td>\n",
       "      <td>1</td>\n",
       "      <td>1</td>\n",
       "      <td>Cumings, Mrs. John Bradley (Florence Briggs Th...</td>\n",
       "      <td>female</td>\n",
       "      <td>38.0</td>\n",
       "      <td>1</td>\n",
       "      <td>0</td>\n",
       "      <td>PC 17599</td>\n",
       "      <td>71.2833</td>\n",
       "      <td>C</td>\n",
       "      <td>Mrs</td>\n",
       "      <td>Small</td>\n",
       "      <td>0</td>\n",
       "    </tr>\n",
       "    <tr>\n",
       "      <th>2</th>\n",
       "      <td>3</td>\n",
       "      <td>1</td>\n",
       "      <td>3</td>\n",
       "      <td>Heikkinen, Miss. Laina</td>\n",
       "      <td>female</td>\n",
       "      <td>26.0</td>\n",
       "      <td>0</td>\n",
       "      <td>0</td>\n",
       "      <td>STON/O2. 3101282</td>\n",
       "      <td>7.9250</td>\n",
       "      <td>S</td>\n",
       "      <td>Miss</td>\n",
       "      <td>Single</td>\n",
       "      <td>1</td>\n",
       "    </tr>\n",
       "    <tr>\n",
       "      <th>3</th>\n",
       "      <td>4</td>\n",
       "      <td>1</td>\n",
       "      <td>1</td>\n",
       "      <td>Futrelle, Mrs. Jacques Heath (Lily May Peel)</td>\n",
       "      <td>female</td>\n",
       "      <td>35.0</td>\n",
       "      <td>1</td>\n",
       "      <td>0</td>\n",
       "      <td>113803</td>\n",
       "      <td>53.1000</td>\n",
       "      <td>S</td>\n",
       "      <td>Mrs</td>\n",
       "      <td>Small</td>\n",
       "      <td>0</td>\n",
       "    </tr>\n",
       "    <tr>\n",
       "      <th>4</th>\n",
       "      <td>5</td>\n",
       "      <td>0</td>\n",
       "      <td>3</td>\n",
       "      <td>Allen, Mr. William Henry</td>\n",
       "      <td>male</td>\n",
       "      <td>35.0</td>\n",
       "      <td>0</td>\n",
       "      <td>0</td>\n",
       "      <td>373450</td>\n",
       "      <td>8.0500</td>\n",
       "      <td>S</td>\n",
       "      <td>Mr</td>\n",
       "      <td>Single</td>\n",
       "      <td>1</td>\n",
       "    </tr>\n",
       "  </tbody>\n",
       "</table>\n",
       "</div>"
      ],
      "text/plain": [
       "   PassengerId  Survived  Pclass  \\\n",
       "0            1         0       3   \n",
       "1            2         1       1   \n",
       "2            3         1       3   \n",
       "3            4         1       1   \n",
       "4            5         0       3   \n",
       "\n",
       "                                                Name     Sex   Age  SibSp  \\\n",
       "0                            Braund, Mr. Owen Harris    male  22.0      1   \n",
       "1  Cumings, Mrs. John Bradley (Florence Briggs Th...  female  38.0      1   \n",
       "2                             Heikkinen, Miss. Laina  female  26.0      0   \n",
       "3       Futrelle, Mrs. Jacques Heath (Lily May Peel)  female  35.0      1   \n",
       "4                           Allen, Mr. William Henry    male  35.0      0   \n",
       "\n",
       "   Parch            Ticket     Fare Embarked Title FamilySize  IsAlone  \n",
       "0      0         A/5 21171   7.2500        S    Mr      Small        0  \n",
       "1      0          PC 17599  71.2833        C   Mrs      Small        0  \n",
       "2      0  STON/O2. 3101282   7.9250        S  Miss     Single        1  \n",
       "3      0            113803  53.1000        S   Mrs      Small        0  \n",
       "4      0            373450   8.0500        S    Mr     Single        1  "
      ]
     },
     "execution_count": 14,
     "metadata": {},
     "output_type": "execute_result"
    }
   ],
   "source": [
    "#### create a correlation graph of the different fields against the survival field\n",
    "corr = train_df.corr()\n",
    "sns.heatmap(corr, cmap = 'RdBu', annot = True, xticklabels = corr.columns.values,yticklabels = corr.columns.values)\n",
    "plt.show()\n",
    "train_df.head()"
   ]
  },
  {
   "cell_type": "code",
   "execution_count": 15,
   "id": "2081fa6c",
   "metadata": {
    "execution": {
     "iopub.execute_input": "2023-06-19T18:31:28.942412Z",
     "iopub.status.busy": "2023-06-19T18:31:28.942029Z",
     "iopub.status.idle": "2023-06-19T18:31:28.967499Z",
     "shell.execute_reply": "2023-06-19T18:31:28.966157Z"
    },
    "papermill": {
     "duration": 0.044445,
     "end_time": "2023-06-19T18:31:28.970532",
     "exception": false,
     "start_time": "2023-06-19T18:31:28.926087",
     "status": "completed"
    },
    "tags": []
   },
   "outputs": [],
   "source": [
    "# create initializations of old tables\n",
    "train_df2 = train_df\n",
    "test_df2 = test_df\n",
    "train_df3 = train_df2\n",
    "test_df3 = test_df2\n",
    "\n",
    "# Create dummy variables for some of the features\n",
    "sex = pd.get_dummies(train_df['Sex'],drop_first=True)\n",
    "embark = pd.get_dummies(train_df['Embarked'],drop_first=True)\n",
    "title = pd.get_dummies(train_df['Title'],drop_first=True)\n",
    "Pclass = pd.get_dummies(train_df['Pclass'],drop_first=True)\n",
    "FamilySize = pd.get_dummies(train_df['FamilySize'],drop_first=True)\n",
    "\n",
    "sex2 = pd.get_dummies(test_df['Sex'],drop_first=True)\n",
    "embark2 = pd.get_dummies(test_df['Embarked'],drop_first=True)\n",
    "title2 = pd.get_dummies(test_df['Title'],drop_first=True)\n",
    "Pclass2 = pd.get_dummies(test_df['Pclass'],drop_first=True)\n",
    "FamilySize2 = pd.get_dummies(test_df['FamilySize'],drop_first=True)\n",
    "\n",
    "for data in data_cleaner:\n",
    "    data.drop(['Sex','Embarked','Name','Ticket','PassengerId','Title','Pclass','FamilySize'],axis=1,inplace=True)\n",
    "    \n",
    "train_df = pd.concat([sex,embark,train_df,title,FamilySize,Pclass],axis=1)\n",
    "test_df = pd.concat([sex2,embark2,test_df,title2,FamilySize2,Pclass2],axis=1)"
   ]
  },
  {
   "cell_type": "markdown",
   "id": "df72fab4",
   "metadata": {
    "papermill": {
     "duration": 0.013773,
     "end_time": "2023-06-19T18:31:28.998559",
     "exception": false,
     "start_time": "2023-06-19T18:31:28.984786",
     "status": "completed"
    },
    "tags": []
   },
   "source": [
    "# **Train Logistic Regression Model**"
   ]
  },
  {
   "cell_type": "code",
   "execution_count": 16,
   "id": "ad8940a8",
   "metadata": {
    "execution": {
     "iopub.execute_input": "2023-06-19T18:31:29.031010Z",
     "iopub.status.busy": "2023-06-19T18:31:29.030590Z",
     "iopub.status.idle": "2023-06-19T18:31:29.040669Z",
     "shell.execute_reply": "2023-06-19T18:31:29.039042Z"
    },
    "papermill": {
     "duration": 0.03029,
     "end_time": "2023-06-19T18:31:29.043704",
     "exception": false,
     "start_time": "2023-06-19T18:31:29.013414",
     "status": "completed"
    },
    "tags": []
   },
   "outputs": [],
   "source": [
    "# Import some new packages for Logistic Regression and K-Fold Cross Validation\n",
    "from sklearn.linear_model import LogisticRegression\n",
    "from sklearn.model_selection import KFold\n",
    "from sklearn.preprocessing import MinMaxScaler\n",
    "from sklearn.svm import SVR\n",
    "from sklearn.model_selection import GridSearchCV\n",
    "from sklearn.model_selection import StratifiedKFold\n",
    "from sklearn.metrics import confusion_matrix, roc_auc_score ,roc_curve,auc\n",
    "\n",
    "# Initialize X and Y variables for training and X variable for Test\n",
    "X = train_df.drop('Survived',axis=1)\n",
    "Y = train_df['Survived']\n",
    "x_test = test_df\n",
    "\n",
    "# Ignores Warning messages\n",
    "import warnings\n",
    "warnings.simplefilter(\"ignore\")"
   ]
  },
  {
   "cell_type": "code",
   "execution_count": 17,
   "id": "ee1026df",
   "metadata": {
    "execution": {
     "iopub.execute_input": "2023-06-19T18:31:29.073512Z",
     "iopub.status.busy": "2023-06-19T18:31:29.073080Z",
     "iopub.status.idle": "2023-06-19T18:31:29.079599Z",
     "shell.execute_reply": "2023-06-19T18:31:29.078476Z"
    },
    "papermill": {
     "duration": 0.02436,
     "end_time": "2023-06-19T18:31:29.082047",
     "exception": false,
     "start_time": "2023-06-19T18:31:29.057687",
     "status": "completed"
    },
    "tags": []
   },
   "outputs": [],
   "source": [
    "# Convert Integer Column Names to String\n",
    "X.columns = X.columns.astype(str)\n",
    "x_test.columns = x_test.columns.astype(str)"
   ]
  },
  {
   "cell_type": "code",
   "execution_count": 18,
   "id": "ce5796d6",
   "metadata": {
    "execution": {
     "iopub.execute_input": "2023-06-19T18:31:29.113849Z",
     "iopub.status.busy": "2023-06-19T18:31:29.112387Z",
     "iopub.status.idle": "2023-06-19T18:31:40.931913Z",
     "shell.execute_reply": "2023-06-19T18:31:40.930270Z"
    },
    "papermill": {
     "duration": 11.841013,
     "end_time": "2023-06-19T18:31:40.937128",
     "exception": false,
     "start_time": "2023-06-19T18:31:29.096115",
     "status": "completed"
    },
    "tags": []
   },
   "outputs": [
    {
     "name": "stdout",
     "output_type": "stream",
     "text": [
      "Best roc_auc: 0.8555, with best C: {'C': 4}\n"
     ]
    }
   ],
   "source": [
    "# Initialize Logistic Regression Model & run Grid Search Cross-Validation to get the best parameters\n",
    "logreg = LogisticRegression(class_weight='balanced') # Initialize the Logistic Regression Model\n",
    "param = {'C':[0.001,0.003,0.005,0.01,0.03,0.05,0.1,0.3,0.5,1,2,3,3,4,5,10,20]} # Create a variables called \"param\" that holds a bunch of different param values\n",
    "clf = GridSearchCV(logreg,param,scoring='roc_auc',refit=True,cv=10) # Cross Validation to find the best parameters to use for logistic regression\n",
    "clf.fit(X,Y)\n",
    "print('Best roc_auc: {:.4}, with best C: {}'.format(clf.best_score_, clf.best_params_))"
   ]
  },
  {
   "cell_type": "code",
   "execution_count": 19,
   "id": "9945f1dc",
   "metadata": {
    "execution": {
     "iopub.execute_input": "2023-06-19T18:31:41.001174Z",
     "iopub.status.busy": "2023-06-19T18:31:41.000395Z",
     "iopub.status.idle": "2023-06-19T18:31:41.052703Z",
     "shell.execute_reply": "2023-06-19T18:31:41.051827Z"
    },
    "papermill": {
     "duration": 0.087263,
     "end_time": "2023-06-19T18:31:41.055128",
     "exception": false,
     "start_time": "2023-06-19T18:31:40.967865",
     "status": "completed"
    },
    "tags": []
   },
   "outputs": [
    {
     "data": {
      "text/html": [
       "<div>\n",
       "<style scoped>\n",
       "    .dataframe tbody tr th:only-of-type {\n",
       "        vertical-align: middle;\n",
       "    }\n",
       "\n",
       "    .dataframe tbody tr th {\n",
       "        vertical-align: top;\n",
       "    }\n",
       "\n",
       "    .dataframe thead th {\n",
       "        text-align: right;\n",
       "    }\n",
       "</style>\n",
       "<table border=\"1\" class=\"dataframe\">\n",
       "  <thead>\n",
       "    <tr style=\"text-align: right;\">\n",
       "      <th></th>\n",
       "      <th>male</th>\n",
       "      <th>Q</th>\n",
       "      <th>S</th>\n",
       "      <th>Age</th>\n",
       "      <th>SibSp</th>\n",
       "      <th>Parch</th>\n",
       "      <th>Fare</th>\n",
       "      <th>IsAlone</th>\n",
       "      <th>Miss</th>\n",
       "      <th>Mr</th>\n",
       "      <th>Mrs</th>\n",
       "      <th>Small</th>\n",
       "      <th>2</th>\n",
       "      <th>3</th>\n",
       "    </tr>\n",
       "  </thead>\n",
       "  <tbody>\n",
       "    <tr>\n",
       "      <th>0</th>\n",
       "      <td>1</td>\n",
       "      <td>0</td>\n",
       "      <td>1</td>\n",
       "      <td>22.00000</td>\n",
       "      <td>1</td>\n",
       "      <td>0</td>\n",
       "      <td>7.2500</td>\n",
       "      <td>0</td>\n",
       "      <td>0</td>\n",
       "      <td>1</td>\n",
       "      <td>0</td>\n",
       "      <td>1</td>\n",
       "      <td>0</td>\n",
       "      <td>1</td>\n",
       "    </tr>\n",
       "    <tr>\n",
       "      <th>1</th>\n",
       "      <td>0</td>\n",
       "      <td>0</td>\n",
       "      <td>0</td>\n",
       "      <td>38.00000</td>\n",
       "      <td>1</td>\n",
       "      <td>0</td>\n",
       "      <td>71.2833</td>\n",
       "      <td>0</td>\n",
       "      <td>0</td>\n",
       "      <td>0</td>\n",
       "      <td>1</td>\n",
       "      <td>1</td>\n",
       "      <td>0</td>\n",
       "      <td>0</td>\n",
       "    </tr>\n",
       "    <tr>\n",
       "      <th>2</th>\n",
       "      <td>0</td>\n",
       "      <td>0</td>\n",
       "      <td>1</td>\n",
       "      <td>26.00000</td>\n",
       "      <td>0</td>\n",
       "      <td>0</td>\n",
       "      <td>7.9250</td>\n",
       "      <td>1</td>\n",
       "      <td>0</td>\n",
       "      <td>0</td>\n",
       "      <td>0</td>\n",
       "      <td>0</td>\n",
       "      <td>0</td>\n",
       "      <td>1</td>\n",
       "    </tr>\n",
       "    <tr>\n",
       "      <th>3</th>\n",
       "      <td>0</td>\n",
       "      <td>0</td>\n",
       "      <td>1</td>\n",
       "      <td>35.00000</td>\n",
       "      <td>1</td>\n",
       "      <td>0</td>\n",
       "      <td>53.1000</td>\n",
       "      <td>0</td>\n",
       "      <td>0</td>\n",
       "      <td>0</td>\n",
       "      <td>1</td>\n",
       "      <td>1</td>\n",
       "      <td>0</td>\n",
       "      <td>0</td>\n",
       "    </tr>\n",
       "    <tr>\n",
       "      <th>4</th>\n",
       "      <td>1</td>\n",
       "      <td>0</td>\n",
       "      <td>1</td>\n",
       "      <td>35.00000</td>\n",
       "      <td>0</td>\n",
       "      <td>0</td>\n",
       "      <td>8.0500</td>\n",
       "      <td>1</td>\n",
       "      <td>0</td>\n",
       "      <td>1</td>\n",
       "      <td>0</td>\n",
       "      <td>0</td>\n",
       "      <td>0</td>\n",
       "      <td>1</td>\n",
       "    </tr>\n",
       "    <tr>\n",
       "      <th>...</th>\n",
       "      <td>...</td>\n",
       "      <td>...</td>\n",
       "      <td>...</td>\n",
       "      <td>...</td>\n",
       "      <td>...</td>\n",
       "      <td>...</td>\n",
       "      <td>...</td>\n",
       "      <td>...</td>\n",
       "      <td>...</td>\n",
       "      <td>...</td>\n",
       "      <td>...</td>\n",
       "      <td>...</td>\n",
       "      <td>...</td>\n",
       "      <td>...</td>\n",
       "    </tr>\n",
       "    <tr>\n",
       "      <th>886</th>\n",
       "      <td>1</td>\n",
       "      <td>0</td>\n",
       "      <td>1</td>\n",
       "      <td>27.00000</td>\n",
       "      <td>0</td>\n",
       "      <td>0</td>\n",
       "      <td>13.0000</td>\n",
       "      <td>1</td>\n",
       "      <td>0</td>\n",
       "      <td>1</td>\n",
       "      <td>0</td>\n",
       "      <td>0</td>\n",
       "      <td>1</td>\n",
       "      <td>0</td>\n",
       "    </tr>\n",
       "    <tr>\n",
       "      <th>887</th>\n",
       "      <td>0</td>\n",
       "      <td>0</td>\n",
       "      <td>1</td>\n",
       "      <td>19.00000</td>\n",
       "      <td>0</td>\n",
       "      <td>0</td>\n",
       "      <td>30.0000</td>\n",
       "      <td>1</td>\n",
       "      <td>0</td>\n",
       "      <td>0</td>\n",
       "      <td>0</td>\n",
       "      <td>0</td>\n",
       "      <td>0</td>\n",
       "      <td>0</td>\n",
       "    </tr>\n",
       "    <tr>\n",
       "      <th>888</th>\n",
       "      <td>0</td>\n",
       "      <td>0</td>\n",
       "      <td>1</td>\n",
       "      <td>25.14062</td>\n",
       "      <td>1</td>\n",
       "      <td>2</td>\n",
       "      <td>23.4500</td>\n",
       "      <td>0</td>\n",
       "      <td>0</td>\n",
       "      <td>0</td>\n",
       "      <td>0</td>\n",
       "      <td>1</td>\n",
       "      <td>0</td>\n",
       "      <td>1</td>\n",
       "    </tr>\n",
       "    <tr>\n",
       "      <th>889</th>\n",
       "      <td>1</td>\n",
       "      <td>0</td>\n",
       "      <td>0</td>\n",
       "      <td>26.00000</td>\n",
       "      <td>0</td>\n",
       "      <td>0</td>\n",
       "      <td>30.0000</td>\n",
       "      <td>1</td>\n",
       "      <td>0</td>\n",
       "      <td>1</td>\n",
       "      <td>0</td>\n",
       "      <td>0</td>\n",
       "      <td>0</td>\n",
       "      <td>0</td>\n",
       "    </tr>\n",
       "    <tr>\n",
       "      <th>890</th>\n",
       "      <td>1</td>\n",
       "      <td>1</td>\n",
       "      <td>0</td>\n",
       "      <td>32.00000</td>\n",
       "      <td>0</td>\n",
       "      <td>0</td>\n",
       "      <td>7.7500</td>\n",
       "      <td>1</td>\n",
       "      <td>0</td>\n",
       "      <td>1</td>\n",
       "      <td>0</td>\n",
       "      <td>0</td>\n",
       "      <td>0</td>\n",
       "      <td>1</td>\n",
       "    </tr>\n",
       "  </tbody>\n",
       "</table>\n",
       "<p>891 rows × 14 columns</p>\n",
       "</div>"
      ],
      "text/plain": [
       "     male  Q  S       Age  SibSp  Parch     Fare  IsAlone  Miss  Mr  Mrs  \\\n",
       "0       1  0  1  22.00000      1      0   7.2500        0     0   1    0   \n",
       "1       0  0  0  38.00000      1      0  71.2833        0     0   0    1   \n",
       "2       0  0  1  26.00000      0      0   7.9250        1     0   0    0   \n",
       "3       0  0  1  35.00000      1      0  53.1000        0     0   0    1   \n",
       "4       1  0  1  35.00000      0      0   8.0500        1     0   1    0   \n",
       "..    ... .. ..       ...    ...    ...      ...      ...   ...  ..  ...   \n",
       "886     1  0  1  27.00000      0      0  13.0000        1     0   1    0   \n",
       "887     0  0  1  19.00000      0      0  30.0000        1     0   0    0   \n",
       "888     0  0  1  25.14062      1      2  23.4500        0     0   0    0   \n",
       "889     1  0  0  26.00000      0      0  30.0000        1     0   1    0   \n",
       "890     1  1  0  32.00000      0      0   7.7500        1     0   1    0   \n",
       "\n",
       "     Small  2  3  \n",
       "0        1  0  1  \n",
       "1        1  0  0  \n",
       "2        0  0  1  \n",
       "3        1  0  0  \n",
       "4        0  0  1  \n",
       "..     ... .. ..  \n",
       "886      0  1  0  \n",
       "887      0  0  0  \n",
       "888      1  0  1  \n",
       "889      0  0  0  \n",
       "890      0  0  1  \n",
       "\n",
       "[891 rows x 14 columns]"
      ]
     },
     "execution_count": 19,
     "metadata": {},
     "output_type": "execute_result"
    }
   ],
   "source": [
    "X['Miss'] = 0\n",
    "X = X[['male','Q','S','Age','SibSp','Parch','Fare','IsAlone','Miss','Mr','Mrs','Small','2','3']]\n",
    "X"
   ]
  },
  {
   "cell_type": "code",
   "execution_count": 20,
   "id": "497affa7",
   "metadata": {
    "execution": {
     "iopub.execute_input": "2023-06-19T18:31:41.087655Z",
     "iopub.status.busy": "2023-06-19T18:31:41.086587Z",
     "iopub.status.idle": "2023-06-19T18:31:41.447267Z",
     "shell.execute_reply": "2023-06-19T18:31:41.446038Z"
    },
    "papermill": {
     "duration": 0.381173,
     "end_time": "2023-06-19T18:31:41.451251",
     "exception": false,
     "start_time": "2023-06-19T18:31:41.070078",
     "status": "completed"
    },
    "tags": []
   },
   "outputs": [
    {
     "name": "stdout",
     "output_type": "stream",
     "text": [
      "1 of KFold 5\n",
      "ROC AUC score: 0.7978260869565218\n",
      "2 of KFold 5\n",
      "ROC AUC score: 0.8176470588235294\n",
      "3 of KFold 5\n",
      "ROC AUC score: 0.7966577540106954\n",
      "4 of KFold 5\n",
      "ROC AUC score: 0.775668449197861\n",
      "5 of KFold 5\n",
      "ROC AUC score: 0.7744315915436777\n"
     ]
    }
   ],
   "source": [
    "# Initialize a K-fold Cross-Validation model with 5 splits & then run against our data to split dataset for Cross-Validation\n",
    "seed = 60\n",
    "kf = StratifiedKFold(n_splits=5,shuffle=True,random_state=seed)\n",
    "pred_test_full =0\n",
    "cv_score =[]\n",
    "i=1\n",
    "for train_index,test_index in kf.split(X,Y):\n",
    "    print('{} of KFold {}'.format(i,kf.n_splits))\n",
    "    xtr,xvl = X.loc[train_index],X.loc[test_index]\n",
    "    ytr,yvl = Y.loc[train_index],Y.loc[test_index]\n",
    "    \n",
    "    #model\n",
    "    lr = LogisticRegression(C=4)\n",
    "    lr.fit(xtr,ytr)\n",
    "    score = roc_auc_score(yvl,lr.predict(xvl))\n",
    "    print('ROC AUC score:',score)\n",
    "    cv_score.append(score)    \n",
    "    pred_test = lr.predict_proba(x_test)[:,1]\n",
    "    pred_test_full +=pred_test\n",
    "    i+=1\n"
   ]
  },
  {
   "cell_type": "code",
   "execution_count": 21,
   "id": "374e9ccb",
   "metadata": {
    "execution": {
     "iopub.execute_input": "2023-06-19T18:31:41.518369Z",
     "iopub.status.busy": "2023-06-19T18:31:41.517642Z",
     "iopub.status.idle": "2023-06-19T18:31:41.559041Z",
     "shell.execute_reply": "2023-06-19T18:31:41.557830Z"
    },
    "papermill": {
     "duration": 0.078438,
     "end_time": "2023-06-19T18:31:41.561767",
     "exception": false,
     "start_time": "2023-06-19T18:31:41.483329",
     "status": "completed"
    },
    "tags": []
   },
   "outputs": [
    {
     "data": {
      "text/html": [
       "<div>\n",
       "<style scoped>\n",
       "    .dataframe tbody tr th:only-of-type {\n",
       "        vertical-align: middle;\n",
       "    }\n",
       "\n",
       "    .dataframe tbody tr th {\n",
       "        vertical-align: top;\n",
       "    }\n",
       "\n",
       "    .dataframe thead th {\n",
       "        text-align: right;\n",
       "    }\n",
       "</style>\n",
       "<table border=\"1\" class=\"dataframe\">\n",
       "  <thead>\n",
       "    <tr style=\"text-align: right;\">\n",
       "      <th></th>\n",
       "      <th>PassengerId</th>\n",
       "      <th>Survived</th>\n",
       "    </tr>\n",
       "  </thead>\n",
       "  <tbody>\n",
       "    <tr>\n",
       "      <th>0</th>\n",
       "      <td>892</td>\n",
       "      <td>0</td>\n",
       "    </tr>\n",
       "    <tr>\n",
       "      <th>1</th>\n",
       "      <td>893</td>\n",
       "      <td>1</td>\n",
       "    </tr>\n",
       "    <tr>\n",
       "      <th>2</th>\n",
       "      <td>894</td>\n",
       "      <td>0</td>\n",
       "    </tr>\n",
       "    <tr>\n",
       "      <th>3</th>\n",
       "      <td>895</td>\n",
       "      <td>0</td>\n",
       "    </tr>\n",
       "    <tr>\n",
       "      <th>4</th>\n",
       "      <td>896</td>\n",
       "      <td>1</td>\n",
       "    </tr>\n",
       "    <tr>\n",
       "      <th>...</th>\n",
       "      <td>...</td>\n",
       "      <td>...</td>\n",
       "    </tr>\n",
       "    <tr>\n",
       "      <th>413</th>\n",
       "      <td>1305</td>\n",
       "      <td>0</td>\n",
       "    </tr>\n",
       "    <tr>\n",
       "      <th>414</th>\n",
       "      <td>1306</td>\n",
       "      <td>1</td>\n",
       "    </tr>\n",
       "    <tr>\n",
       "      <th>415</th>\n",
       "      <td>1307</td>\n",
       "      <td>0</td>\n",
       "    </tr>\n",
       "    <tr>\n",
       "      <th>416</th>\n",
       "      <td>1308</td>\n",
       "      <td>0</td>\n",
       "    </tr>\n",
       "    <tr>\n",
       "      <th>417</th>\n",
       "      <td>1309</td>\n",
       "      <td>0</td>\n",
       "    </tr>\n",
       "  </tbody>\n",
       "</table>\n",
       "<p>418 rows × 2 columns</p>\n",
       "</div>"
      ],
      "text/plain": [
       "     PassengerId  Survived\n",
       "0            892         0\n",
       "1            893         1\n",
       "2            894         0\n",
       "3            895         0\n",
       "4            896         1\n",
       "..           ...       ...\n",
       "413         1305         0\n",
       "414         1306         1\n",
       "415         1307         0\n",
       "416         1308         0\n",
       "417         1309         0\n",
       "\n",
       "[418 rows x 2 columns]"
      ]
     },
     "execution_count": 21,
     "metadata": {},
     "output_type": "execute_result"
    }
   ],
   "source": [
    "y_pred = pred_test_full/5\n",
    "submit = pd.DataFrame({'PassengerId':sub,'Survived':y_pred})\n",
    "submit['Survived'] = submit['Survived'].apply(lambda x: 1 if x>0.5 else 0)\n",
    "#submit.to_csv('lr_titanic.csv.gz',index=False,compression='gzip') \n",
    "submit.to_csv('lr_titanic_v1.csv',index=False) \n",
    "submit"
   ]
  },
  {
   "cell_type": "code",
   "execution_count": null,
   "id": "60cfce52",
   "metadata": {
    "papermill": {
     "duration": 0.01514,
     "end_time": "2023-06-19T18:31:41.592493",
     "exception": false,
     "start_time": "2023-06-19T18:31:41.577353",
     "status": "completed"
    },
    "tags": []
   },
   "outputs": [],
   "source": []
  },
  {
   "cell_type": "code",
   "execution_count": null,
   "id": "3ed5a7fe",
   "metadata": {
    "papermill": {
     "duration": 0.015258,
     "end_time": "2023-06-19T18:31:41.623151",
     "exception": false,
     "start_time": "2023-06-19T18:31:41.607893",
     "status": "completed"
    },
    "tags": []
   },
   "outputs": [],
   "source": []
  },
  {
   "cell_type": "code",
   "execution_count": 22,
   "id": "d05470c4",
   "metadata": {
    "execution": {
     "iopub.execute_input": "2023-06-19T18:31:41.657112Z",
     "iopub.status.busy": "2023-06-19T18:31:41.655959Z",
     "iopub.status.idle": "2023-06-19T18:31:41.662599Z",
     "shell.execute_reply": "2023-06-19T18:31:41.661371Z"
    },
    "papermill": {
     "duration": 0.026741,
     "end_time": "2023-06-19T18:31:41.665284",
     "exception": false,
     "start_time": "2023-06-19T18:31:41.638543",
     "status": "completed"
    },
    "tags": []
   },
   "outputs": [],
   "source": [
    "# print('Confusion matrix\\n',confusion_matrix(yvl,lr.predict(xvl)))\n",
    "# print('Cv',cv_score,'\\nMean cv Score',np.mean(cv_score))\n",
    "\n",
    "#####################################################################\n",
    "\n",
    "# proba = lr.predict_proba(xvl)[:,1]\n",
    "# frp,trp, threshold = roc_curve(yvl,proba)\n",
    "# roc_auc_ = auc(frp,trp)\n",
    "\n",
    "# plt.figure(figsize=(14,8))\n",
    "# plt.title('Reciever Operating Characteristics')\n",
    "# plt.plot(frp,trp,'r',label = 'AUC = %0.2f' % roc_auc_)\n",
    "# plt.legend(loc='lower right')\n",
    "# plt.plot([0,1],[0,1],'b--')\n",
    "# plt.ylabel('True positive rate')\n",
    "# plt.xlabel('False positive rate')\n",
    "\n",
    "#######################################################################\n",
    "\n",
    "#xgbpred=XGBRegressor(n_estimators=1000,max_depth=15)\n",
    "#xgbpred.fit(X_train,y_train)\n",
    "#prediction=xgbpred.predict(X_test)\n",
    "#prediction=np.around(prediction)\n",
    "#pred_list = [int(x) for x in prediction]\n",
    "#pred_list"
   ]
  },
  {
   "cell_type": "code",
   "execution_count": null,
   "id": "d312353e",
   "metadata": {
    "papermill": {
     "duration": 0.015734,
     "end_time": "2023-06-19T18:31:41.696633",
     "exception": false,
     "start_time": "2023-06-19T18:31:41.680899",
     "status": "completed"
    },
    "tags": []
   },
   "outputs": [],
   "source": []
  },
  {
   "cell_type": "code",
   "execution_count": null,
   "id": "fbadedc5",
   "metadata": {
    "papermill": {
     "duration": 0.015239,
     "end_time": "2023-06-19T18:31:41.728002",
     "exception": false,
     "start_time": "2023-06-19T18:31:41.712763",
     "status": "completed"
    },
    "tags": []
   },
   "outputs": [],
   "source": []
  },
  {
   "cell_type": "code",
   "execution_count": null,
   "id": "d243836a",
   "metadata": {
    "papermill": {
     "duration": 0.014993,
     "end_time": "2023-06-19T18:31:41.758309",
     "exception": false,
     "start_time": "2023-06-19T18:31:41.743316",
     "status": "completed"
    },
    "tags": []
   },
   "outputs": [],
   "source": []
  }
 ],
 "metadata": {
  "kernelspec": {
   "display_name": "Python 3",
   "language": "python",
   "name": "python3"
  },
  "language_info": {
   "codemirror_mode": {
    "name": "ipython",
    "version": 3
   },
   "file_extension": ".py",
   "mimetype": "text/x-python",
   "name": "python",
   "nbconvert_exporter": "python",
   "pygments_lexer": "ipython3",
   "version": "3.10.10"
  },
  "papermill": {
   "default_parameters": {},
   "duration": 33.100078,
   "end_time": "2023-06-19T18:31:42.898391",
   "environment_variables": {},
   "exception": null,
   "input_path": "__notebook__.ipynb",
   "output_path": "__notebook__.ipynb",
   "parameters": {},
   "start_time": "2023-06-19T18:31:09.798313",
   "version": "2.4.0"
  }
 },
 "nbformat": 4,
 "nbformat_minor": 5
}
